{
 "cells": [
  {
   "cell_type": "code",
   "execution_count": 12,
   "metadata": {},
   "outputs": [],
   "source": [
    "country_rectangle_coordinates = [\n",
    "    {'country': 'malawi', 'min-l'}\n",
    "]"
   ]
  },
  {
   "cell_type": "code",
   "execution_count": 13,
   "metadata": {},
   "outputs": [
    {
     "name": "stdout",
     "output_type": "stream",
     "text": [
      "2018-04-19 14:28:56.103691\n",
      "2018-04-19 14:41:36.008550\n"
     ]
    }
   ],
   "source": [
    "print datetime.now()\n",
    "w = open('country_night_intensity.txt', 'a')\n",
    "with open('../data/intensity/Classification_XYZ.txt') as f:\n",
    "    next(f)\n",
    "    for line in f:\n",
    "        lst = line.split(';')\n",
    "        lon = float(lst[0])\n",
    "        lat = float(lst[1])\n",
    "        intensity = float(lst[2][:-1])\n",
    "        if lat < min_lat:\n",
    "            break;\n",
    "        if lat <= max_lat and lat >= min_lat and lon <= max_lon and lon >= min_lon:\n",
    "            w.write(line)\n",
    "w.close()\n",
    "print datetime.now()"
   ]
  },
  {
   "cell_type": "code",
   "execution_count": null,
   "metadata": {},
   "outputs": [],
   "source": []
  }
 ],
 "metadata": {
  "kernelspec": {
   "display_name": "Python 2",
   "language": "python",
   "name": "python2"
  },
  "language_info": {
   "codemirror_mode": {
    "name": "ipython",
    "version": 2
   },
   "file_extension": ".py",
   "mimetype": "text/x-python",
   "name": "python",
   "nbconvert_exporter": "python",
   "pygments_lexer": "ipython2",
   "version": "2.7.14"
  }
 },
 "nbformat": 4,
 "nbformat_minor": 2
}
