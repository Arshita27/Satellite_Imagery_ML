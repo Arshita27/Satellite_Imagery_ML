{
 "cells": [
  {
   "cell_type": "markdown",
   "metadata": {},
   "source": [
    "# This notebook generates the individual text files containing latitude longitude and intensity in a single row."
   ]
  },
  {
   "cell_type": "markdown",
   "metadata": {},
   "source": [
    "coordinates for all 5 countries from which we can download satellite images"
   ]
  },
  {
   "cell_type": "code",
   "execution_count": 12,
   "metadata": {},
   "outputs": [],
   "source": [
    "country_rectangle_coordinates = [\n",
    "    {'country':'malawi', 'min_lat':-17.1566, 'max_lat':-9.383, 'min_lon':32.816, 'max_lon':35.899},\n",
    "    {'country':'nigeria', 'min_lat':6.484838, 'max_lat':8.735063, 'min_lon':2.834524, 'max_lon':5.277357},\n",
    "    {'country':'rwanda', 'min_lat':-2.261463, 'max_lat':-1.588156, 'min_lon':29.312913, 'max_lon':30.57585},\n",
    "    {'country':'tanzania', 'min_lat':-8.962322, 'max_lat':-4.955697, 'min_lon':32.210858, 'max_lon':38.776096},\n",
    "    {'country':'uganda', 'min_lat':-0.629513, 'max_lat':3.577103, 'min_lon':30.666669, 'max_lon':34.096889}\n",
    "]"
   ]
  },
  {
   "cell_type": "markdown",
   "metadata": {},
   "source": [
    "method to generate intensity text file for a country given it's rectangle's coordinates"
   ]
  },
  {
   "cell_type": "code",
   "execution_count": 13,
   "metadata": {},
   "outputs": [
    {
     "name": "stdout",
     "output_type": "stream",
     "text": [
      "2018-04-19 14:28:56.103691\n",
      "2018-04-19 14:41:36.008550\n"
     ]
    }
   ],
   "source": [
    "def generate_country_intensity_file(item):\n",
    "    min_lat = item['min_lat']\n",
    "    max_lat = item['max_lat']\n",
    "    min_lon = item['min_lon']\n",
    "    max_lon = item['max_lon']\n",
    "    w = open('../data/intensity/' + item['country'] + '_country_night_intensity.txt', 'a')\n",
    "    with open('../data/intensity/Classification_XYZ.txt') as f:\n",
    "        next(f)\n",
    "        for line in f:\n",
    "            lst = line.split(';')\n",
    "            lon = float(lst[0])\n",
    "            lat = float(lst[1])\n",
    "            intensity = float(lst[2][:-1])\n",
    "            if lat < min_lat:\n",
    "                break;\n",
    "            if lat <= max_lat and lat >= min_lat and lon <= max_lon and lon >= min_lon:\n",
    "                w.write(line)\n",
    "    w.close()"
   ]
  },
  {
   "cell_type": "code",
   "execution_count": null,
   "metadata": {},
   "outputs": [],
   "source": [
    "for item in country_rectangle_coordinates:\n",
    "    generate_country_intensity_file(item)"
   ]
  }
 ],
 "metadata": {
  "kernelspec": {
   "display_name": "Python 2",
   "language": "python",
   "name": "python2"
  },
  "language_info": {
   "codemirror_mode": {
    "name": "ipython",
    "version": 2
   },
   "file_extension": ".py",
   "mimetype": "text/x-python",
   "name": "python",
   "nbconvert_exporter": "python",
   "pygments_lexer": "ipython2",
   "version": "2.7.14"
  }
 },
 "nbformat": 4,
 "nbformat_minor": 2
}
